{
 "cells": [
  {
   "cell_type": "code",
   "execution_count": 1,
   "metadata": {},
   "outputs": [],
   "source": [
    "from pokerrl_env.utils import readable_card_to_int\n",
    "import numpy as np\n",
    "from pokerrl_env.config import Config\n",
    "from pokerrl_env.view import player_view, human_readable_view\n",
    "from pokerrl_env.transition import step_state, init_state\n",
    "from pokerrl_env.cardlib import hand_rank,encode\n",
    "from pokerrl_env.datatypes import Player,ModelActions,Positions"
   ]
  },
  {
   "cell_type": "code",
   "execution_count": 4,
   "metadata": {},
   "outputs": [
    {
     "name": "stdout",
     "output_type": "stream",
     "text": [
      "(2, 91)\n",
      "(2, 91) (91,)\n"
     ]
    },
    {
     "ename": "ValueError",
     "evalue": "all the input arrays must have same number of dimensions, but the array at index 0 has 2 dimension(s) and the array at index 1 has 1 dimension(s)",
     "output_type": "error",
     "traceback": [
      "\u001b[0;31m---------------------------------------------------------------------------\u001b[0m",
      "\u001b[0;31mValueError\u001b[0m                                Traceback (most recent call last)",
      "\u001b[1;32m/Users/Shuza/Code/PokerRL/playground.ipynb Cell 2\u001b[0m in \u001b[0;36m6\n\u001b[1;32m      <a href='vscode-notebook-cell:/Users/Shuza/Code/PokerRL/playground.ipynb#W1sZmlsZQ%3D%3D?line=2'>3</a>\u001b[0m state,done,winnings,action_mask \u001b[39m=\u001b[39m init_state(config)\n\u001b[1;32m      <a href='vscode-notebook-cell:/Users/Shuza/Code/PokerRL/playground.ipynb#W1sZmlsZQ%3D%3D?line=3'>4</a>\u001b[0m \u001b[39mprint\u001b[39m(state\u001b[39m.\u001b[39mshape)\n\u001b[0;32m----> <a href='vscode-notebook-cell:/Users/Shuza/Code/PokerRL/playground.ipynb#W1sZmlsZQ%3D%3D?line=5'>6</a>\u001b[0m state,done,winnings,action_mask \u001b[39m=\u001b[39m step_state(state,ModelActions\u001b[39m.\u001b[39;49mCALL,config)\n",
      "File \u001b[0;32m~/Code/PokerRL/pokerrl_env/transition.py:346\u001b[0m, in \u001b[0;36mstep_state\u001b[0;34m(global_states, action, config)\u001b[0m\n\u001b[1;32m    344\u001b[0m \u001b[39melse\u001b[39;00m:\n\u001b[1;32m    345\u001b[0m     \u001b[39mprint\u001b[39m(global_states\u001b[39m.\u001b[39mshape,global_state\u001b[39m.\u001b[39mshape)\n\u001b[0;32m--> 346\u001b[0m     global_states \u001b[39m=\u001b[39m np\u001b[39m.\u001b[39;49mconcatenate([global_states,global_state])\n\u001b[1;32m    347\u001b[0m \u001b[39mreturn\u001b[39;00m global_states,done,winnings,get_action_mask(global_state,player_amount_invested_per_street,config)\n",
      "File \u001b[0;32m<__array_function__ internals>:200\u001b[0m, in \u001b[0;36mconcatenate\u001b[0;34m(*args, **kwargs)\u001b[0m\n",
      "\u001b[0;31mValueError\u001b[0m: all the input arrays must have same number of dimensions, but the array at index 0 has 2 dimension(s) and the array at index 1 has 1 dimension(s)"
     ]
    }
   ],
   "source": [
    "config = Config(num_players=2)\n",
    "\n",
    "state,done,winnings,action_mask = init_state(config)\n",
    "print(state.shape)\n",
    "\n",
    "state,done,winnings,action_mask = step_state(state,ModelActions.CALL,config)"
   ]
  },
  {
   "cell_type": "code",
   "execution_count": null,
   "metadata": {},
   "outputs": [],
   "source": [
    "\n",
    "\n",
    "# global_state = np.zeros(config.global_state_shape)\n",
    "# # set stacks for two players\n",
    "# board_cards = [('A', 's'), ('K', 's'), ('Q', 's'), ('J', 's'), ('T', 's')]\n",
    "# board = [readable_card_to_int(card) for card in board_cards]\n",
    "# hand1 = [('A', 'h'), ('K', 'h'), ('Q', 'h'), ('J', 'h')]\n",
    "# hand1 = [readable_card_to_int(card) for card in hand1]\n",
    "# hand2 = [('A', 'c'), ('K', 'c'), ('9', 's'), ('8', 's')]\n",
    "# hand2 = [readable_card_to_int(card) for card in hand2]\n",
    "# # flatten hand1 and hand2\n",
    "# hand1 = [item for sublist in hand1 for item in sublist]\n",
    "# hand2 = [item for sublist in hand2 for item in sublist]\n",
    "# board = [item for sublist in board for item in sublist]\n",
    "# hands = [hand1,hand2]\n",
    "# print(board)\n",
    "# print('hands', hands)\n",
    "# print(global_state.shape)\n",
    "# for i in range(1, 3):\n",
    "#     global_state[config.global_state_mapping[f'player_{i}_stack']] = 100\n",
    "#     global_state[config.global_state_mapping[f'player_{i}_active']] = 1\n",
    "#     global_state[config.global_state_mapping[f'player_{i}_position']] = i\n",
    "#     global_state[config.global_state_mapping[f'player_{i}_hand_range'][0]:config.global_state_mapping[f'player_{i}_hand_range'][1]] = hands[i-1]\n",
    "\n",
    "# board = [13, 4, 12, 4, 11, 4, 10, 4, 9, 4]\n",
    "# hands = [[13, 3, 12, 3, 11, 3, 10, 3], [13, 1, 12, 1, 8, 4, 7, 4]]\n",
    "\n",
    "# print(encode([13,3]))\n",
    "# en_hand = [encode(hands[1][i*2:(i*2)+2]) for i in range(0,len(hands[1])//2)]\n",
    "# en_board = [encode(board[i*2:(i*2)+2]) for i in range(0,len(board)//2)]\n",
    "# print(hand_rank(en_hand,en_board))\n",
    "# hand_values = []\n",
    "# for i in range(1,7):\n",
    "#     if global_state[config.global_state_mapping[f'player_{i}_active']] == 1:\n",
    "#         hand_start = config.global_state_mapping[f'player_{i}_hand_range'][0]\n",
    "#         hand_end = config.global_state_mapping[f'player_{i}_hand_range'][1]\n",
    "#         player_hand = [int(h) for h in global_state[hand_start:hand_end]]\n",
    "#         print('player_hand', player_hand)\n",
    "#         encoded_hand = [encode(player_hand[i*2:(i*2)+2]) for i in range(0,len(player_hand)//2)]\n",
    "#         hand_value = hand_rank(encoded_hand, en_board)\n",
    "#         hand_values.append(Player(global_state[config.global_state_mapping[f'player_{i}_position']],\n",
    "#                                     global_state[config.global_state_mapping[f'player_{i}_stack']],\n",
    "#                                     global_state[config.global_state_mapping[f'player_{i}_active']],\n",
    "#                                     hand_value))\n",
    "# # find winners"
   ]
  },
  {
   "attachments": {},
   "cell_type": "markdown",
   "metadata": {},
   "source": [
    "# Testing the environment"
   ]
  },
  {
   "cell_type": "code",
   "execution_count": null,
   "metadata": {},
   "outputs": [],
   "source": [
    "from typing import Dict, List, Tuple\n",
    "\n",
    "\n",
    "def get_pots(pot_players: List[Player], total_amount_invested: Dict[int, float]) -> List[Tuple[float, List[Player]]]:\n",
    "    pots = []\n",
    "    while len(pot_players) > 0:\n",
    "        num_players = len(pot_players)\n",
    "        min_invested = total_amount_invested[min(pot_players, key=lambda x: total_amount_invested[x.position]).position]\n",
    "        print('min_invested',min_invested)\n",
    "        pot = 0\n",
    "        involved_players = []\n",
    "\n",
    "        print('player',pot_players)\n",
    "        players_to_remove = []\n",
    "        for player in pot_players:\n",
    "            involved_players.append(player)\n",
    "            pot += min_invested\n",
    "            total_amount_invested[player.position] -= min_invested\n",
    "            if total_amount_invested[player.position] == 0:\n",
    "                players_to_remove.append(player)\n",
    "        for player in players_to_remove:\n",
    "            pot_players.remove(player)\n",
    "        pots.append((pot, involved_players))\n",
    "        print('pots,pot_players',pots,len(pot_players))\n",
    "        if num_players == len(pot_players):\n",
    "            break\n",
    "    return pots"
   ]
  },
  {
   "cell_type": "code",
   "execution_count": null,
   "metadata": {},
   "outputs": [
    {
     "name": "stdout",
     "output_type": "stream",
     "text": [
      "min_invested 100\n",
      "player [Position:1, Stack:100, Active:1, Hand:[8, 14], Position:3, Stack:100, Active:1, Hand:[8, 14]]\n",
      "player 1\n",
      "player 3\n",
      "pots,pot_players [(200, [Position:1, Stack:100, Active:1, Hand:[8, 14], Position:3, Stack:100, Active:1, Hand:[8, 14]])] 0\n"
     ]
    }
   ],
   "source": [
    "\n",
    "def example_players():\n",
    "    return [\n",
    "        Player(position=1, stack=100, active=1, hand=[8, 14], hand_value=5, total_invested=100),\n",
    "        Player(position=2, stack=0, active=1, hand=[8, 14], hand_value=1, total_invested=50),\n",
    "        Player(position=3, stack=100, active=1, hand=[8, 14], hand_value=5, total_invested=100),\n",
    "    ]\n",
    "\n",
    "def config2():\n",
    "    return Config(num_players=2)\n",
    "\n",
    "def config3():\n",
    "    return Config(num_players=3)\n",
    "\n",
    "def example_total_amount_invested():\n",
    "    return {1: 100, 2: 50, 3: 100}\n",
    "\n",
    "def total_amount_invested_2():\n",
    "    return {1: 100, 2: 50, 3: 100}\n",
    "\n",
    "def example_pots(example_players):\n",
    "    return [\n",
    "        (150, [example_players[0], example_players[1],example_players[2]]),\n",
    "        (100, [example_players[0], example_players[2]])\n",
    "    ]\n",
    "\n",
    "def test_simple_pot(example_players,total_amount_invested_2):\n",
    "    pots = get_pots([example_players[0],example_players[2]], total_amount_invested_2)\n",
    "    assert pots == [\n",
    "        (200, [example_players[0],example_players[2]])\n",
    "    ]\n",
    "\n",
    "example_players = example_players()\n",
    "ex_pots = example_pots(example_players)\n",
    "\n",
    "\n",
    "test_simple_pot(example_players,total_amount_invested_2())"
   ]
  },
  {
   "cell_type": "code",
   "execution_count": null,
   "metadata": {},
   "outputs": [
    {
     "name": "stdout",
     "output_type": "stream",
     "text": [
      "[1 0 1 1 1 1 1 1 1 1 1]\n",
      "1.0\n",
      "1.0\n",
      "[1 0 1 1 1 1 1 1 1 1 1]\n",
      "1.0\n",
      "(3, 91)\n",
      "1.0\n",
      "1.0\n",
      "1.0\n",
      "True\n",
      "[1 0 1 1 1 1 1 1 1 1 1]\n",
      "{6.0: 0.0}\n"
     ]
    }
   ],
   "source": [
    "# config = Config(num_players=2)\n",
    "# CALL = 2\n",
    "# CHECK = 1\n",
    "# player_index = 1\n",
    "# state,done,winnings,action_mask = init_state(config)\n",
    "# print(action_mask)\n",
    "# state,done,winnings,action_mask = step_state(state,CALL,config)\n",
    "# print(action_mask)\n",
    "# while not done:\n",
    "#     print('street',state[-1,config.global_state_mapping['street']])\n",
    "#     print(state.shape)\n",
    "#     state,done,winnings,action_mask = step_state(state,CHECK,config)\n",
    "#     print(done)\n",
    "#     print(action_mask)\n",
    "# print(winnings)\n",
    "# # player_state = human_readable_view(state,player_index,config)\n",
    "# # print(player_state)"
   ]
  },
  {
   "cell_type": "code",
   "execution_count": null,
   "metadata": {},
   "outputs": [],
   "source": []
  }
 ],
 "metadata": {
  "kernelspec": {
   "display_name": "ml",
   "language": "python",
   "name": "python3"
  },
  "language_info": {
   "codemirror_mode": {
    "name": "ipython",
    "version": 3
   },
   "file_extension": ".py",
   "mimetype": "text/x-python",
   "name": "python",
   "nbconvert_exporter": "python",
   "pygments_lexer": "ipython3",
   "version": "3.10.8"
  },
  "orig_nbformat": 4,
  "vscode": {
   "interpreter": {
    "hash": "4080a1624ee4439a84e481bb4ede2655e1fa39fd626a6bd31d6205c13f8f417f"
   }
  }
 },
 "nbformat": 4,
 "nbformat_minor": 2
}
