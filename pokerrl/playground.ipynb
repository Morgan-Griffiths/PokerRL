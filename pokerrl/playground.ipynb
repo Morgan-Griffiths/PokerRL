{
 "cells": [
  {
   "cell_type": "code",
   "execution_count": 1,
   "metadata": {},
   "outputs": [],
   "source": [
    "from utils import readable_card_to_int\n",
    "import numpy as np\n",
    "from config import Config\n",
    "from view import player_view, human_readable_view\n",
    "from transition import step_state, init_state\n",
    "from cardlib import hand_rank,encode\n",
    "from datatypes import Player"
   ]
  },
  {
   "cell_type": "code",
   "execution_count": 2,
   "metadata": {},
   "outputs": [],
   "source": [
    "\n",
    "\n",
    "# global_state = np.zeros(config.global_state_shape)\n",
    "# # set stacks for two players\n",
    "# board_cards = [('A', 's'), ('K', 's'), ('Q', 's'), ('J', 's'), ('T', 's')]\n",
    "# board = [readable_card_to_int(card) for card in board_cards]\n",
    "# hand1 = [('A', 'h'), ('K', 'h'), ('Q', 'h'), ('J', 'h')]\n",
    "# hand1 = [readable_card_to_int(card) for card in hand1]\n",
    "# hand2 = [('A', 'c'), ('K', 'c'), ('9', 's'), ('8', 's')]\n",
    "# hand2 = [readable_card_to_int(card) for card in hand2]\n",
    "# # flatten hand1 and hand2\n",
    "# hand1 = [item for sublist in hand1 for item in sublist]\n",
    "# hand2 = [item for sublist in hand2 for item in sublist]\n",
    "# board = [item for sublist in board for item in sublist]\n",
    "# hands = [hand1,hand2]\n",
    "# print(board)\n",
    "# print('hands', hands)\n",
    "# print(global_state.shape)\n",
    "# for i in range(1, 3):\n",
    "#     global_state[config.global_state_mapping[f'player_{i}_stack']] = 100\n",
    "#     global_state[config.global_state_mapping[f'player_{i}_active']] = 1\n",
    "#     global_state[config.global_state_mapping[f'player_{i}_position']] = i\n",
    "#     global_state[config.global_state_mapping[f'player_{i}_hand_range'][0]:config.global_state_mapping[f'player_{i}_hand_range'][1]] = hands[i-1]\n",
    "\n",
    "# board = [13, 4, 12, 4, 11, 4, 10, 4, 9, 4]\n",
    "# hands = [[13, 3, 12, 3, 11, 3, 10, 3], [13, 1, 12, 1, 8, 4, 7, 4]]\n",
    "\n",
    "# print(encode([13,3]))\n",
    "# en_hand = [encode(hands[1][i*2:(i*2)+2]) for i in range(0,len(hands[1])//2)]\n",
    "# en_board = [encode(board[i*2:(i*2)+2]) for i in range(0,len(board)//2)]\n",
    "# print(hand_rank(en_hand,en_board))\n",
    "# hand_values = []\n",
    "# for i in range(1,7):\n",
    "#     if global_state[config.global_state_mapping[f'player_{i}_active']] == 1:\n",
    "#         hand_start = config.global_state_mapping[f'player_{i}_hand_range'][0]\n",
    "#         hand_end = config.global_state_mapping[f'player_{i}_hand_range'][1]\n",
    "#         player_hand = [int(h) for h in global_state[hand_start:hand_end]]\n",
    "#         print('player_hand', player_hand)\n",
    "#         encoded_hand = [encode(player_hand[i*2:(i*2)+2]) for i in range(0,len(player_hand)//2)]\n",
    "#         hand_value = hand_rank(encoded_hand, en_board)\n",
    "#         hand_values.append(Player(global_state[config.global_state_mapping[f'player_{i}_position']],\n",
    "#                                     global_state[config.global_state_mapping[f'player_{i}_stack']],\n",
    "#                                     global_state[config.global_state_mapping[f'player_{i}_active']],\n",
    "#                                     hand_value))\n",
    "# # find winners"
   ]
  },
  {
   "attachments": {},
   "cell_type": "markdown",
   "metadata": {},
   "source": [
    "# Testing the environment"
   ]
  },
  {
   "cell_type": "code",
   "execution_count": 3,
   "metadata": {},
   "outputs": [
    {
     "name": "stdout",
     "output_type": "stream",
     "text": [
      "[1 0 1 1 1 1 1 1 1 1 1]\n",
      "1.0\n",
      "1.0\n",
      "[1 0 1 1 1 1 1 1 1 1 1]\n",
      "1.0\n",
      "(3, 91)\n",
      "1.0\n",
      "1.0\n",
      "1.0\n",
      "True\n",
      "[1 0 1 1 1 1 1 1 1 1 1]\n",
      "{6.0: 0.0}\n"
     ]
    }
   ],
   "source": [
    "config = Config(num_players=2)\n",
    "CALL = 2\n",
    "CHECK = 1\n",
    "player_index = 1\n",
    "state,done,winnings,action_mask = init_state(config)\n",
    "print(action_mask)\n",
    "state,done,winnings,action_mask = step_state(state,CALL,config)\n",
    "print(action_mask)\n",
    "while not done:\n",
    "    print('street',state[-1,config.global_state_mapping['street']])\n",
    "    print(state.shape)\n",
    "    state,done,winnings,action_mask = step_state(state,CHECK,config)\n",
    "    print(done)\n",
    "    print(action_mask)\n",
    "print(winnings)\n",
    "# player_state = human_readable_view(state,player_index,config)\n",
    "# print(player_state)"
   ]
  },
  {
   "cell_type": "code",
   "execution_count": null,
   "metadata": {},
   "outputs": [],
   "source": []
  }
 ],
 "metadata": {
  "kernelspec": {
   "display_name": "ml",
   "language": "python",
   "name": "python3"
  },
  "language_info": {
   "codemirror_mode": {
    "name": "ipython",
    "version": 3
   },
   "file_extension": ".py",
   "mimetype": "text/x-python",
   "name": "python",
   "nbconvert_exporter": "python",
   "pygments_lexer": "ipython3",
   "version": "3.10.8"
  },
  "orig_nbformat": 4,
  "vscode": {
   "interpreter": {
    "hash": "4080a1624ee4439a84e481bb4ede2655e1fa39fd626a6bd31d6205c13f8f417f"
   }
  }
 },
 "nbformat": 4,
 "nbformat_minor": 2
}
